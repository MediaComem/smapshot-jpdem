{
 "cells": [
  {
   "cell_type": "markdown",
   "id": "af5c6027-b577-4ec3-ad09-c7ae59d4884c",
   "metadata": {},
   "source": [
    "# Convert japanese DEMs to geotiff\n",
    "This notebook converts Japanese DEM XML files into Geotiffs using the CLI tool \"jpgis-dem\" in Python.  \n",
    "Installation instructions are in the links below:  \n",
    "- Blog: https://www.gpxz.io/blog/jpgis-dem  \n",
    "- Github repository: https://github.com/gpxz/jpgis-dem/tree/main?tab=readme-ov-file  "
   ]
  },
  {
   "cell_type": "markdown",
   "id": "731a7d2b-92be-4824-8183-874953c3a2b2",
   "metadata": {},
   "source": [
    "### Environment"
   ]
  },
  {
   "cell_type": "code",
   "execution_count": null,
   "id": "c371454f-cbba-4293-84d2-708d402b445a",
   "metadata": {},
   "outputs": [],
   "source": [
    "import os\n",
    "import zipfile\n",
    "import shutil\n",
    "import numpy as np\n",
    "import pytest\n",
    "import rasterio\n",
    "\n",
    "import jpgisdem\n",
    "from fix_dghm_tags import *\n",
    "\n",
    "#print(\"Working repository :\", os.getcwd())"
   ]
  },
  {
   "cell_type": "markdown",
   "id": "a790bb95-14d2-4cbd-8aec-fbd55140e942",
   "metadata": {},
   "source": [
    "***/!\\\\ rasterio version***     \n",
    "There might be issues with the rasterio version between the one used by jpgis-dem and the one from PostGIS/PostgreSQL.  \n",
    "If there are issue, make sure to check which rasterio we are working with. The version to be used can be specified with:   \n",
    "`setx PROJ_LIB \"[virtualenv_path]\\rasterio\\proj_data\"`"
   ]
  },
  {
   "cell_type": "code",
   "execution_count": null,
   "id": "000b8724-c834-4c02-8e6f-8971f4037d85",
   "metadata": {},
   "outputs": [],
   "source": [
    "# example command to visu which rasterio is used:\n",
    "!python -c \"import rasterio; print(rasterio._env.get_proj_data_search_paths())\""
   ]
  },
  {
   "cell_type": "markdown",
   "id": "a0f26f88-9fdc-4e13-b44b-350bab836673",
   "metadata": {},
   "source": [
    "## Running the tests (optional)\n",
    "Running the function on the test files provided on the github."
   ]
  },
  {
   "cell_type": "code",
   "execution_count": null,
   "id": "bde98e24-b93c-491d-b6bb-6493abdd5ad7",
   "metadata": {},
   "outputs": [],
   "source": [
    "# checking filepath\n",
    "file_path = r\".\\tests\\test_jpgisdem.py\"\n",
    "if os.path.exists(file_path):\n",
    "    print(f\"Le fichier existe : {file_path}\")\n",
    "else:\n",
    "    print(f\"Le fichier n'existe pas : {file_path}\")"
   ]
  },
  {
   "cell_type": "code",
   "execution_count": null,
   "id": "cf04c7cb-4f43-4b78-81b7-11f56da5c357",
   "metadata": {},
   "outputs": [],
   "source": [
    "!pytest -v .\\tests\\test_jpgisdem.py"
   ]
  },
  {
   "cell_type": "code",
   "execution_count": null,
   "id": "63421ba9-fdb1-4b0c-ab47-888b3c19074d",
   "metadata": {},
   "outputs": [],
   "source": [
    "# converting the tests files\n",
    "!jpgis-dem xml2tif .\\tests\\data\\FG-GML-3624-30-DEM5B.zip .\\tests\\export\\FG-GML-3624-30-DEM5B.geotiff"
   ]
  },
  {
   "cell_type": "markdown",
   "id": "705647cc-af63-47aa-9220-0fac74fe4790",
   "metadata": {},
   "source": [
    "Note: might need to update the test_jpgisdem.py and specify \"rb\" in `with open():`.  \n",
    "e.g., `with open(XML_path, \"rb\") as src, ...`"
   ]
  },
  {
   "cell_type": "markdown",
   "id": "0bae19fa-9bc2-4814-9b7d-4aaf2dc87480",
   "metadata": {},
   "source": [
    "## Convert a single file or single zip folder\n",
    "For zips, return a single geotiff which merges all files within the zip."
   ]
  },
  {
   "cell_type": "code",
   "execution_count": null,
   "id": "35b1c2d8-3e8e-4c30-a438-424d3b60fda0",
   "metadata": {},
   "outputs": [],
   "source": [
    "# replace dghm with dems\n",
    "# specify --zip for zip files\n",
    "!python .\\fix_dghm_tags.py .\\data\\all_DEMs\\Tohoku\\GMLdata_akita.zip .\\data\\all_DEMs\\Tohoku\\patched_tohoku_akita.zip --zip    "
   ]
  },
  {
   "cell_type": "code",
   "execution_count": null,
   "id": "31806da5-d2c2-4af3-b205-6fb43f3b2d59",
   "metadata": {},
   "outputs": [],
   "source": [
    "# convert to geotiff\n",
    "!jpgis-dem xml2tif .\\data\\all_DEMs\\Tohoku\\patched_tohoku_akita.zip .\\data\\all_DEMs\\Tohoku\\tohoku_akita.geotiff"
   ]
  },
  {
   "cell_type": "markdown",
   "id": "91dea515-46a4-4156-b0b9-02fdd5d3249f",
   "metadata": {},
   "source": [
    "## Convert all XMLs within a folder"
   ]
  },
  {
   "cell_type": "code",
   "execution_count": null,
   "id": "d70876ea-fee6-4ff2-aa27-b9b7e20d7d9f",
   "metadata": {},
   "outputs": [],
   "source": [
    "folder_path = r\".\\data\\all_DEMs\\Hokkaido\\GMLdata_00hokkaido\"\n",
    "# checking filepath\n",
    "if os.path.exists(folder_path):\n",
    "    print(f\"Folder exists : {folder_path}\")\n",
    "else:\n",
    "    print(f\"Folder does not exist : {folder_path}\")"
   ]
  },
  {
   "cell_type": "code",
   "execution_count": null,
   "id": "cce04d3e-d00e-48ac-a6fb-d98d6e8919a0",
   "metadata": {
    "scrolled": true
   },
   "outputs": [],
   "source": [
    "# loop through XMLs\n",
    "for root, dirs, files in os.walk(folder_path):\n",
    "    for file in files:\n",
    "        # output folders\n",
    "        file_path = os.path.join(root,file)\n",
    "        print(file_path)\n",
    "        patched_dir = os.path.join(root, \"patched\")\n",
    "        geotiff_dir = os.path.join(root, \"geotiff\")\n",
    "        os.makedirs(patched_dir, exist_ok=True)\n",
    "        os.makedirs(geotiff_dir, exist_ok=True)\n",
    "        \n",
    "        #output paths\n",
    "        print(patched_dir)\n",
    "        patched_path = os.path.join(patched_dir, f\"{file[:-4]}_patched.xml\")\n",
    "        geotiff_path = os.path.join(geotiff_dir, f\"{file[:-4]}.geotiff\")\n",
    "\n",
    "        if os.path.exists(patched_path):\n",
    "            if os.path.isdir(patched_path):\n",
    "                shutil.rmtree(patched_path)\n",
    "            else:\n",
    "                os.remove(patched_path)\n",
    "\n",
    "        if os.path.exists(geotiff_path):\n",
    "            if os.path.isdir(geotiff_path):\n",
    "                shutil.rmtree(geotiff_path)\n",
    "            else:\n",
    "                os.remove(geotiff_path)\n",
    "\n",
    "        # patch\n",
    "        !python .\\fix_dghm_tags.py \"{file_path}\" \"{patched_path}\"\n",
    "\n",
    "        # convert to geotiff\n",
    "        !jpgis-dem xml2tif \"{patched_path}\" \"{geotiff_path}\"\n",
    "\n",
    "        # remove empty folders\n",
    "        for d in [patched_dir, geotiff_dir]:\n",
    "            if os.path.isdir(d) and not os.listdir(d):\n",
    "                os.rmdir(d)"
   ]
  },
  {
   "cell_type": "markdown",
   "id": "d18676a4-ef9a-4323-9c58-f9071f24ca33",
   "metadata": {},
   "source": [
    "## Convert all ZIPs within a folder"
   ]
  },
  {
   "cell_type": "code",
   "execution_count": null,
   "id": "e7473860-80b8-429c-8385-f7b37df7af48",
   "metadata": {},
   "outputs": [],
   "source": [
    "folder_path = r\".\\data\\all_DEMs\"\n",
    "# checking filepath\n",
    "if os.path.exists(folder_path):\n",
    "    print(f\"Folder exists : {folder_path}\")\n",
    "else:\n",
    "    print(f\"Folder does not exist : {folder_path}\")"
   ]
  },
  {
   "cell_type": "code",
   "execution_count": null,
   "id": "b25f37f0-8323-4294-90a9-3ea1379f8d00",
   "metadata": {},
   "outputs": [],
   "source": [
    "# loop through zips\n",
    "for root, dirs, files in os.walk(folder_path):\n",
    "    for file in files:\n",
    "        if file.endswith(\".zip\"):\n",
    "            zip_path = os.path.join(root,file)\n",
    "            print(zip_path)\n",
    "            \n",
    "            # output folders\n",
    "            patched_dir = os.path.join(root, \"patched\")\n",
    "            geotiff_dir = os.path.join(root, \"geotiff\")\n",
    "            os.makedirs(patched_dir, exist_ok=True)\n",
    "            os.makedirs(geotiff_dir, exist_ok=True)\n",
    "\n",
    "            #output paths\n",
    "            patched_path = os.path.join(patched_dir, f\"{file[:-4]}_patched.zip\")\n",
    "            geotiff_path = os.path.join(geotiff_dir, f\"{file[:-4]}.geotiff\")\n",
    "\n",
    "            if os.path.exists(patched_path):\n",
    "                if os.path.isdir(patched_path):\n",
    "                    shutil.rmtree(patched_path)\n",
    "                else:\n",
    "                    os.remove(patched_path)\n",
    "\n",
    "            if os.path.exists(geotiff_path):\n",
    "                if os.path.isdir(geotiff_path):\n",
    "                    shutil.rmtree(geotiff_path)\n",
    "                else:\n",
    "                    os.remove(geotiff_path)\n",
    "\n",
    "            # patch\n",
    "            !python .\\fix_dghm_tags.py \"{zip_path}\" \"{patched_path}\" --zip\n",
    "\n",
    "            # convert to geotiff\n",
    "            !jpgis-dem xml2tif \"{patched_path}\" \"{geotiff_path}\"\n",
    "\n",
    "            # remove empty folders\n",
    "            for d in [patched_dir, geotiff_dir]:\n",
    "                if os.path.isdir(d) and not os.listdir(d):\n",
    "                    os.rmdir(d)\n",
    "            \n",
    "        \n",
    "    "
   ]
  },
  {
   "cell_type": "code",
   "execution_count": null,
   "id": "32147825-3948-4f9d-8f38-ddd88993c5e2",
   "metadata": {},
   "outputs": [],
   "source": []
  }
 ],
 "metadata": {
  "kernelspec": {
   "display_name": "Python 3 (ipykernel)",
   "language": "python",
   "name": "python3"
  },
  "language_info": {
   "codemirror_mode": {
    "name": "ipython",
    "version": 3
   },
   "file_extension": ".py",
   "mimetype": "text/x-python",
   "name": "python",
   "nbconvert_exporter": "python",
   "pygments_lexer": "ipython3",
   "version": "3.13.3"
  }
 },
 "nbformat": 4,
 "nbformat_minor": 5
}
